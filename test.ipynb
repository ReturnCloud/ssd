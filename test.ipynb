{
 "metadata": {
  "language_info": {
   "codemirror_mode": {
    "name": "ipython",
    "version": 3
   },
   "file_extension": ".py",
   "mimetype": "text/x-python",
   "name": "python",
   "nbconvert_exporter": "python",
   "pygments_lexer": "ipython3",
   "version": "3.6.9-final"
  },
  "orig_nbformat": 2,
  "kernelspec": {
   "name": "python3",
   "display_name": "Python 3",
   "language": "python"
  }
 },
 "nbformat": 4,
 "nbformat_minor": 2,
 "cells": [
  {
   "source": [
    "%config InteractiveShell.ast_node_interactivity = 'all' # 'all', 'last', 'last_expr' or 'none', 'last_expr_or_assign'\n",
    "# %config InlineBackend.figure_format = 'svg'\n"
   ],
   "cell_type": "code",
   "metadata": {},
   "execution_count": 1,
   "outputs": []
  },
  {
   "cell_type": "code",
   "execution_count": 5,
   "metadata": {},
   "outputs": [
    {
     "output_type": "execute_result",
     "data": {
      "text/plain": [
       "<bound method Env.seed of <envs.cleanup.CleanupEnv object at 0x7f03490b70f0>>"
      ]
     },
     "metadata": {},
     "execution_count": 5
    }
   ],
   "source": [
    "import numpy as np\n",
    "import gym\n",
    "from envs.cleanup import CleanupEnv\n",
    "from envs.cleanup import CleanupAgent\n",
    "\n",
    "# self, agent_id, start_pos, start_orientation, grid, row_size, col_size\n",
    "\n",
    "env = 'cleanup-v0'\n",
    "# try:\n",
    "#     gym.register(env, entry_point=CleanupEnv, kwargs={'num_agents':10})\n",
    "# except:\n",
    "#     raise Exception('environment registered')\n",
    "env = gym.make(env)\n",
    "env.seed\n",
    "\n"
   ]
  },
  {
   "cell_type": "code",
   "execution_count": 2,
   "metadata": {},
   "outputs": [
    {
     "output_type": "execute_result",
     "data": {
      "text/plain": [
       "10"
      ]
     },
     "metadata": {},
     "execution_count": 2
    }
   ],
   "source": [
    "env.num_agents"
   ]
  },
  {
   "cell_type": "code",
   "execution_count": 6,
   "metadata": {},
   "outputs": [],
   "source": [
    "env.seed()"
   ]
  },
  {
   "cell_type": "code",
   "execution_count": 2,
   "metadata": {},
   "outputs": [],
   "source": [
    "from envs.harvest import HarvestEnv\n",
    "from envs.cleanup import CleanupEnv\n",
    "from algo.ppo import PPO\n",
    "from algo.model import Policy\n",
    "from algo.storage import RolloutStorage\n",
    "# from config import get_config\n",
    "from envs.vec_env import SubprocVecEnv, DummyVecEnv\n",
    "from algo.algo_utils import update_linear_schedule"
   ]
  },
  {
   "cell_type": "code",
   "execution_count": 3,
   "metadata": {},
   "outputs": [],
   "source": [
    "def make_parallel_env(args):\n",
    "    def get_env_fn(rank):\n",
    "        def init_env():\n",
    "            if args['env_name'] == \"cleanup\":\n",
    "                env = CleanupEnv(num_agents=args['num_agents'])\n",
    "            elif args['env_name'] == \"harvest\":\n",
    "                env = HarvestEnv(num_agents=args['num_agents'])\n",
    "            else:\n",
    "                print(\"Can not support the \" + args['env_name'] + \"environment.\" )\n",
    "                raise NotImplementedError\n",
    "            env.seed(args['seed'] + rank * 1000)\n",
    "            return env\n",
    "        return init_env\n",
    "    if args['n_rollout_threads'] == 1:\n",
    "        return DummyVecEnv([get_env_fn(0)])\n",
    "    else:\n",
    "        return SubprocVecEnv([get_env_fn(i) for i in range(args['n_rollout_threads'])])"
   ]
  },
  {
   "cell_type": "code",
   "execution_count": 4,
   "metadata": {},
   "outputs": [],
   "source": [
    "args = {'env_name':'cleanup', 'seed':2, 'n_rollout_threads':4, 'num_agents': 2}\n",
    "envs = make_parallel_env(args)"
   ]
  },
  {
   "cell_type": "code",
   "execution_count": 3,
   "metadata": {},
   "outputs": [
    {
     "output_type": "execute_result",
     "data": {
      "text/plain": [
       "array([[[ 0,  1,  2,  3,  4,  5,  6,  7],\n",
       "        [ 0,  1,  2,  3,  4,  5,  6,  7]],\n",
       "\n",
       "       [[ 8,  9, 10, 11, 12, 13, 14, 15],\n",
       "        [ 8,  9, 10, 11, 12, 13, 14, 15]],\n",
       "\n",
       "       [[16, 17, 18, 19, 20, 21, 22, 23],\n",
       "        [16, 17, 18, 19, 20, 21, 22, 23]],\n",
       "\n",
       "       [[24, 25, 26, 27, 28, 29, 30, 31],\n",
       "        [24, 25, 26, 27, 28, 29, 30, 31]]])"
      ]
     },
     "metadata": {},
     "execution_count": 3
    }
   ],
   "source": [
    "import numpy as np \n",
    "a = np.arange(32).reshape(4,8)\n",
    "a = np.expand_dims(a, 1).repeat(2, axis=1)\n",
    "a"
   ]
  },
  {
   "cell_type": "code",
   "execution_count": 5,
   "metadata": {},
   "outputs": [
    {
     "output_type": "execute_result",
     "data": {
      "text/plain": [
       "(10, 2, 3, 4, 4)"
      ]
     },
     "metadata": {},
     "execution_count": 5
    },
    {
     "output_type": "execute_result",
     "data": {
      "text/plain": [
       "(10, 6, 4, 4)"
      ]
     },
     "metadata": {},
     "execution_count": 5
    },
    {
     "output_type": "execute_result",
     "data": {
      "text/plain": [
       "(10, 6, 4, 4)"
      ]
     },
     "metadata": {},
     "execution_count": 5
    }
   ],
   "source": [
    "import numpy as np\n",
    "a = np.random.randn(10,2,3,4,4)\n",
    "a.shape\n",
    "c = np.concatenate([a[:,i,:,:,:] for i in range(2)], axis=1)\n",
    "d = a.reshape(10,-1,4,4)\n",
    "c.shape\n",
    "d.shape\n",
    "for i in range(10):\n",
    "    for j in range(6):\n",
    "        for m in range(4):\n",
    "            for n in range(4):\n",
    "                if c[i][j][m][n] != d[i][j][m][n]:\n",
    "                    print (i,j,m,n)\n",
    "        \n",
    "\n"
   ]
  },
  {
   "cell_type": "code",
   "execution_count": 4,
   "metadata": {},
   "outputs": [
    {
     "output_type": "execute_result",
     "data": {
      "text/plain": [
       "(6, 4, 3, 2)"
      ]
     },
     "metadata": {},
     "execution_count": 4
    },
    {
     "output_type": "execute_result",
     "data": {
      "text/plain": [
       "(6, 4, 3, 2)"
      ]
     },
     "metadata": {},
     "execution_count": 4
    }
   ],
   "source": [
    "import numpy as np \n",
    "a = np.arange(720).reshape(6,5,4,3,2)\n",
    "b = a[:,0,:]\n",
    "c = a[:,0,:,:,:]\n",
    "b.shape\n",
    "c.shape\n",
    "\n"
   ]
  }
 ]
}