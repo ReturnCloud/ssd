{
 "metadata": {
  "language_info": {
   "codemirror_mode": {
    "name": "ipython",
    "version": 3
   },
   "file_extension": ".py",
   "mimetype": "text/x-python",
   "name": "python",
   "nbconvert_exporter": "python",
   "pygments_lexer": "ipython3",
   "version": "3.7.3-final"
  },
  "orig_nbformat": 2,
  "kernelspec": {
   "name": "python3",
   "display_name": "Python 3",
   "language": "python"
  }
 },
 "nbformat": 4,
 "nbformat_minor": 2,
 "cells": [
  {
   "source": [
    "%config InteractiveShell.ast_node_interactivity = 'all' # 'all', 'last', 'last_expr' or 'none', 'last_expr_or_assign'\n",
    "# %config InlineBackend.figure_format = 'svg'\n"
   ],
   "cell_type": "code",
   "metadata": {},
   "execution_count": 13,
   "outputs": []
  },
  {
   "cell_type": "code",
   "execution_count": 2,
   "metadata": {},
   "outputs": [],
   "source": [
    "import numpy as np\n",
    "import gym\n",
    "from envs.cleanup import CleanupEnv\n",
    "from envs.cleanup import CleanupAgent\n",
    "\n",
    "# self, agent_id, start_pos, start_orientation, grid, row_size, col_size\n",
    "\n",
    "env = 'cleanup-v0'\n",
    "try:\n",
    "    gym.register(env, entry_point=CleanupEnv)\n",
    "except:\n",
    "    raise Exception('environment registered')\n",
    "env = gym.make(env)\n",
    "\n"
   ]
  },
  {
   "cell_type": "code",
   "execution_count": 3,
   "metadata": {},
   "outputs": [
    {
     "output_type": "execute_result",
     "data": {
      "text/plain": [
       "0"
      ]
     },
     "metadata": {},
     "execution_count": 3
    }
   ],
   "source": [
    "a = env.action_space.sample()\n",
    "a"
   ]
  },
  {
   "cell_type": "code",
   "execution_count": 6,
   "metadata": {},
   "outputs": [
    {
     "output_type": "execute_result",
     "data": {
      "text/plain": [
       "(15, 15, 3)"
      ]
     },
     "metadata": {},
     "execution_count": 6
    }
   ],
   "source": [
    "s = env.reset()\n",
    "s['agent-0'].shape"
   ]
  },
  {
   "cell_type": "code",
   "execution_count": 16,
   "metadata": {},
   "outputs": [
    {
     "output_type": "execute_result",
     "data": {
      "text/plain": [
       "'w'"
      ]
     },
     "metadata": {},
     "execution_count": 16
    }
   ],
   "source": [
    "a = {'q':2, 'w':23, 'e':9, 'r':5}\n",
    "max(a, key=a.get)"
   ]
  },
  {
   "source": [
    "import tensorflow as tf \n",
    "x = tf.constant([[2, 2], [3, 3]])\n",
    "y = tf.constant([[8, 16], [2, 3]])\n",
    "tf.pow(x, y)\n"
   ],
   "cell_type": "code",
   "metadata": {},
   "execution_count": 18,
   "outputs": [
    {
     "output_type": "execute_result",
     "data": {
      "text/plain": [
       "<tf.Tensor 'Pow:0' shape=(2, 2) dtype=int32>"
      ]
     },
     "metadata": {},
     "execution_count": 18
    }
   ]
  }
 ]
}