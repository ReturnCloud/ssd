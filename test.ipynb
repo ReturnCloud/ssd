{
 "metadata": {
  "language_info": {
   "codemirror_mode": {
    "name": "ipython",
    "version": 3
   },
   "file_extension": ".py",
   "mimetype": "text/x-python",
   "name": "python",
   "nbconvert_exporter": "python",
   "pygments_lexer": "ipython3",
   "version": "3.6.9-final"
  },
  "orig_nbformat": 2,
  "kernelspec": {
   "name": "python3",
   "display_name": "Python 3",
   "language": "python"
  }
 },
 "nbformat": 4,
 "nbformat_minor": 2,
 "cells": [
  {
   "source": [
    "%config InteractiveShell.ast_node_interactivity = 'all' # 'all', 'last', 'last_expr' or 'none', 'last_expr_or_assign'\n",
    "# %config InlineBackend.figure_format = 'svg'\n"
   ],
   "cell_type": "code",
   "metadata": {},
   "execution_count": 8,
   "outputs": []
  },
  {
   "cell_type": "code",
   "execution_count": 2,
   "metadata": {},
   "outputs": [],
   "source": [
    "import numpy as np\n",
    "import gym\n",
    "from envs.cleanup import CleanupEnv\n",
    "from envs.cleanup import CleanupAgent\n",
    "\n",
    "# self, agent_id, start_pos, start_orientation, grid, row_size, col_size\n",
    "\n",
    "env = 'cleanup-v0'\n",
    "try:\n",
    "    gym.register(env, entry_point=CleanupEnv)\n",
    "except:\n",
    "    raise Exception('environment registered')\n",
    "env = gym.make(env)\n",
    "\n"
   ]
  },
  {
   "cell_type": "code",
   "execution_count": 2,
   "metadata": {},
   "outputs": [],
   "source": [
    "from envs.harvest import HarvestEnv\n",
    "from envs.cleanup import CleanupEnv\n",
    "from algo.ppo import PPO\n",
    "from algo.model import Policy\n",
    "from algo.storage import RolloutStorage\n",
    "# from config import get_config\n",
    "from envs.vec_env import SubprocVecEnv, DummyVecEnv\n",
    "from algo.algo_utils import update_linear_schedule"
   ]
  },
  {
   "cell_type": "code",
   "execution_count": 3,
   "metadata": {},
   "outputs": [],
   "source": [
    "def make_parallel_env(args):\n",
    "    def get_env_fn(rank):\n",
    "        def init_env():\n",
    "            if args['env_name'] == \"cleanup\":\n",
    "                env = CleanupEnv(num_agents=args['num_agents'])\n",
    "            elif args['env_name'] == \"harvest\":\n",
    "                env = HarvestEnv(num_agents=args['num_agents'])\n",
    "            else:\n",
    "                print(\"Can not support the \" + args['env_name'] + \"environment.\" )\n",
    "                raise NotImplementedError\n",
    "            env.seed(args['seed'] + rank * 1000)\n",
    "            return env\n",
    "        return init_env\n",
    "    if args['n_rollout_threads'] == 1:\n",
    "        return DummyVecEnv([get_env_fn(0)])\n",
    "    else:\n",
    "        return SubprocVecEnv([get_env_fn(i) for i in range(args['n_rollout_threads'])])"
   ]
  },
  {
   "cell_type": "code",
   "execution_count": 4,
   "metadata": {},
   "outputs": [],
   "source": [
    "args = {'env_name':'cleanup', 'seed':2, 'n_rollout_threads':4, 'num_agents': 2}\n",
    "envs = make_parallel_env(args)"
   ]
  },
  {
   "cell_type": "code",
   "execution_count": 5,
   "metadata": {},
   "outputs": [
    {
     "output_type": "execute_result",
     "data": {
      "text/plain": [
       "(4, 2, 15, 15, 3)"
      ]
     },
     "metadata": {},
     "execution_count": 5
    }
   ],
   "source": [
    "obs = envs.reset()\n",
    "obs.shape\n"
   ]
  },
  {
   "cell_type": "code",
   "execution_count": 7,
   "metadata": {},
   "outputs": [
    {
     "output_type": "execute_result",
     "data": {
      "text/plain": [
       "(10, 6, 4, 4)"
      ]
     },
     "metadata": {},
     "execution_count": 7
    }
   ],
   "source": [
    "import numpy as np\n",
    "a = np.arange(960).reshape(10,2,3,4,4)\n",
    "c = np.concatenate([a[:,i,:,:,:] for i in range(2)], axis=1)\n",
    "c.shape\n"
   ]
  },
  {
   "cell_type": "code",
   "execution_count": 12,
   "metadata": {},
   "outputs": [],
   "source": [
    "from torch.utils.tensorboard import SummaryWriter\n",
    "import numpy as np\n",
    "writer = SummaryWriter()\n",
    "for i in range(10):\n",
    "    x = np.arange(4)\n",
    "    np.random.shuffle(x)\n",
    "    writer.add_histogram('distribution centers', x , i)\n",
    "# writer.close()"
   ]
  },
  {
   "cell_type": "code",
   "execution_count": 13,
   "metadata": {},
   "outputs": [
    {
     "output_type": "stream",
     "name": "stdout",
     "text": [
      "TensorBoard 1.15.0 at http://h1:9999/ (Press CTRL+C to quit)\n",
      "^C\n"
     ]
    }
   ],
   "source": [
    "! tensorboard --logdir=/home/liyunfei/lsy/ssd/runs --port=9999"
   ]
  },
  {
   "cell_type": "code",
   "execution_count": null,
   "metadata": {},
   "outputs": [],
   "source": [
    "env = CleanupEnv(num_agents=4)"
   ]
  }
 ]
}