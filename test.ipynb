{
 "metadata": {
  "language_info": {
   "codemirror_mode": {
    "name": "ipython",
    "version": 3
   },
   "file_extension": ".py",
   "mimetype": "text/x-python",
   "name": "python",
   "nbconvert_exporter": "python",
   "pygments_lexer": "ipython3",
   "version": "3.6.9-final"
  },
  "orig_nbformat": 2,
  "kernelspec": {
   "name": "python3",
   "display_name": "Python 3",
   "language": "python"
  }
 },
 "nbformat": 4,
 "nbformat_minor": 2,
 "cells": [
  {
   "source": [
    "%config InteractiveShell.ast_node_interactivity = 'all' # 'all', 'last', 'last_expr' or 'none', 'last_expr_or_assign'\n",
    "# %config InlineBackend.figure_format = 'svg'\n"
   ],
   "cell_type": "code",
   "metadata": {},
   "execution_count": 8,
   "outputs": []
  },
  {
   "cell_type": "code",
   "execution_count": 2,
   "metadata": {},
   "outputs": [],
   "source": [
    "import numpy as np\n",
    "import gym\n",
    "from envs.cleanup import CleanupEnv\n",
    "from envs.cleanup import CleanupAgent\n",
    "\n",
    "# self, agent_id, start_pos, start_orientation, grid, row_size, col_size\n",
    "\n",
    "env = 'cleanup-v0'\n",
    "try:\n",
    "    gym.register(env, entry_point=CleanupEnv)\n",
    "except:\n",
    "    raise Exception('environment registered')\n",
    "env = gym.make(env)\n",
    "\n"
   ]
  },
  {
   "cell_type": "code",
   "execution_count": 1,
   "metadata": {},
   "outputs": [],
   "source": [
    "from envs.harvest import HarvestEnv\n",
    "from envs.cleanup import CleanupEnv\n",
    "from algo.ppo import PPO\n",
    "from algo.model import Policy\n",
    "from algo.storage import RolloutStorage\n",
    "# from config import get_config\n",
    "from envs.vec_env import SubprocVecEnv, DummyVecEnv\n",
    "from algo.algo_utils import update_linear_schedule"
   ]
  },
  {
   "cell_type": "code",
   "execution_count": 2,
   "metadata": {},
   "outputs": [],
   "source": [
    "def make_parallel_env(args):\n",
    "    def get_env_fn(rank):\n",
    "        def init_env():\n",
    "            if args['env_name'] == \"cleanup\":\n",
    "                env = CleanupEnv(num_agents=args['num_agents'])\n",
    "            elif args['env_name'] == \"harvest\":\n",
    "                env = HarvestEnv(num_agents=args['num_agents'])\n",
    "            else:\n",
    "                print(\"Can not support the \" + args['env_name'] + \"environment.\" )\n",
    "                raise NotImplementedError\n",
    "            env.seed(args['seed'] + rank * 1000)\n",
    "            return env\n",
    "        return init_env\n",
    "    if args['n_rollout_threads'] == 1:\n",
    "        return DummyVecEnv([get_env_fn(0)])\n",
    "    else:\n",
    "        return SubprocVecEnv([get_env_fn(i) for i in range(args['n_rollout_threads'])])"
   ]
  },
  {
   "cell_type": "code",
   "execution_count": 3,
   "metadata": {},
   "outputs": [],
   "source": [
    "args = {'env_name':'harvest', 'seed':2, 'n_rollout_threads':2, 'num_agents': 2}\n",
    "envs = make_parallel_env(args)"
   ]
  },
  {
   "cell_type": "code",
   "execution_count": 18,
   "metadata": {},
   "outputs": [
    {
     "output_type": "execute_result",
     "data": {
      "text/plain": [
       "2"
      ]
     },
     "metadata": {},
     "execution_count": 18
    },
    {
     "output_type": "stream",
     "name": "stdout",
     "text": [
      "(2, 15, 15, 3)\n(2, 15, 15, 3)\n"
     ]
    }
   ],
   "source": [
    "obs = envs.reset()\n",
    "len(obs)\n",
    "import numpy as np\n",
    "\n",
    "# obs[0]\n",
    "for i in range(len(obs)):\n",
    "    map_env = []\n",
    "    for k in obs[i].keys():\n",
    "        map_env.append(obs[i][k])\n",
    "    maps = np.array(map_env)\n",
    "    print (maps.shape)"
   ]
  },
  {
   "cell_type": "code",
   "execution_count": 1,
   "metadata": {},
   "outputs": [
    {
     "output_type": "execute_result",
     "data": {
      "text/plain": [
       "183.90804597701148"
      ]
     },
     "metadata": {},
     "execution_count": 1
    }
   ],
   "source": [
    "4000/21.75\n"
   ]
  },
  {
   "cell_type": "code",
   "execution_count": 4,
   "metadata": {},
   "outputs": [
    {
     "output_type": "execute_result",
     "data": {
      "text/plain": [
       "1380.0"
      ]
     },
     "metadata": {},
     "execution_count": 4
    }
   ],
   "source": []
  }
 ]
}